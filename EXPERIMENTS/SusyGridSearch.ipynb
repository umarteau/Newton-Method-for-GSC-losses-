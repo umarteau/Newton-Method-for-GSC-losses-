{
 "cells": [
  {
   "cell_type": "code",
   "execution_count": 13,
   "metadata": {},
   "outputs": [],
   "source": [
    "import numpy as np\n",
    "import torch\n",
    "import time\n",
    "import psutil\n",
    "import sys\n",
    "sys.path.append(\"../\")\n",
    "import NewtonMethod\n",
    "import gaussianKernel\n",
    "import losses\n",
    "import display\n",
    "from importlib import reload"
   ]
  },
  {
   "cell_type": "markdown",
   "metadata": {},
   "source": [
    "## Dividing training and test set "
   ]
  },
  {
   "cell_type": "code",
   "execution_count": 14,
   "metadata": {},
   "outputs": [],
   "source": [
    "# loading file\n",
    "\n",
    "filepath= \"../DATASETS/Susy.pt\"\n",
    "X = torch.load(filepath)\n",
    "\n",
    "# shuffle file\n",
    "\n",
    "n = X.size(0)\n",
    "d = X.size(1)-1\n",
    "l = np.array(range(n))\n",
    "np.random.shuffle(l)\n",
    "X = X[l,:]\n",
    "del l\n",
    "\n",
    "\n",
    "# divide in training and test set \n",
    "\n",
    "ntr = int(np.ceil(n*0.8))\n",
    "nts = n - ntr\n",
    "\n",
    "Xtr = X[:ntr,1:]\n",
    "Xts = X[ntr:,1:]\n",
    "Ytr = X[:ntr,0].unsqueeze_(1)\n",
    "Yts = X[ntr:,0].unsqueeze_(1)\n",
    "del X\n",
    "\n",
    "# processing training features : centering and renormalizing\n",
    "\n",
    "def recenter(W,m,s):\n",
    "    W-= m.unsqueeze(0).expand_as(W)\n",
    "    W /= s.unsqueeze(0).expand_as(W)\n",
    "    \n",
    "m = Xtr.mean(0)\n",
    "s = Xtr.std(0)\n",
    "recenter(Xtr,m,s)\n",
    "recenter(Xts,m,s)\n",
    "del m\n",
    "del s\n",
    "\n",
    "# putting labels to -1,1\n",
    "\n",
    "Ytr *= 2\n",
    "Ytr -= 1\n",
    "Yts *= 2\n",
    "Yts -= 1"
   ]
  },
  {
   "cell_type": "markdown",
   "metadata": {},
   "source": [
    "## Setting general parameters "
   ]
  },
  {
   "cell_type": "code",
   "execution_count": 15,
   "metadata": {},
   "outputs": [],
   "source": [
    "# Nystrom points\n",
    "m = 10000\n",
    "l = np.array(range(ntr))\n",
    "np.random.shuffle(l)\n",
    "l = l[:m]\n",
    "C = Xtr[l,:]\n",
    "yC = Ytr[l,:]\n",
    "# loss\n",
    "loss = losses.logloss\n",
    "#UseGPU\n",
    "useGPU = True\n",
    "#memory_to_use\n",
    "memToUse = 0.9*psutil.virtual_memory().available"
   ]
  },
  {
   "cell_type": "markdown",
   "metadata": {},
   "source": [
    "List of $\\sigma$ we want to test for the kernel part"
   ]
  },
  {
   "cell_type": "code",
   "execution_count": 16,
   "metadata": {},
   "outputs": [],
   "source": [
    "#List of sigma to see\n",
    "lSigma = [5]\n"
   ]
  },
  {
   "cell_type": "markdown",
   "metadata": {},
   "source": [
    "List of regularization parameter $\\lambda$ we wish to test"
   ]
  },
  {
   "cell_type": "code",
   "execution_count": 19,
   "metadata": {},
   "outputs": [],
   "source": [
    "#list of lambda to seee\n",
    "la_list = [1e-6,1e-8,1e-9,1e-9,1e-9,1e-9,1e-9,1e-10,1e-10,1e-10,1e-10,1e-10,1e-11,1e-11,1e-11,1e-11,1e-11,1e-12,1e-12,1e-12,1e-12,1e-12]\n",
    "t_list = [3,3,8,8,8,8,8,8,8,8,8,8,8,8,8,8,8,8,8,8,8,8]"
   ]
  },
  {
   "cell_type": "code",
   "execution_count": 20,
   "metadata": {},
   "outputs": [],
   "source": [
    "saveFolder = \"SusyData/gridSearch/logloss_third_round\""
   ]
  },
  {
   "cell_type": "code",
   "execution_count": 21,
   "metadata": {},
   "outputs": [],
   "source": [
    "display = reload(display)\n",
    "NewtonMethod = reload(NewtonMethod)"
   ]
  },
  {
   "cell_type": "code",
   "execution_count": 22,
   "metadata": {},
   "outputs": [],
   "source": [
    "cobj = display.cobjTestGrid(Xts,Yts,la_list,lSigma,m,saveFolder = saveFolder)"
   ]
  },
  {
   "cell_type": "code",
   "execution_count": null,
   "metadata": {},
   "outputs": [
    {
     "name": "stdout",
     "output_type": "stream",
     "text": [
      "there is 9.492578125 GiB free on the GPU \n",
      "number of approximate newton steps performed : 0         in 40.736676931381226 seconds\n",
      "Performed 1 steps of the conjugate gradient method\n",
      "Performed 2 steps of the conjugate gradient method\n",
      "Performed 3 steps of the conjugate gradient method\n",
      "number of approximate newton steps performed : 1         in 144.98382782936096 seconds\n",
      "Performed 4 steps of the conjugate gradient method\n",
      "Performed 5 steps of the conjugate gradient method\n",
      "Performed 6 steps of the conjugate gradient method\n",
      "number of approximate newton steps performed : 2         in 249.3805091381073 seconds\n",
      "Performed 7 steps of the conjugate gradient method\n",
      "Performed 8 steps of the conjugate gradient method\n",
      "Performed 9 steps of the conjugate gradient method\n",
      "Performed 10 steps of the conjugate gradient method\n",
      "Performed 11 steps of the conjugate gradient method\n",
      "Performed 12 steps of the conjugate gradient method\n",
      "Performed 13 steps of the conjugate gradient method\n",
      "Performed 14 steps of the conjugate gradient method\n",
      "number of approximate newton steps performed : 3         in 465.33714747428894 seconds\n",
      "Performed 15 steps of the conjugate gradient method\n",
      "Performed 16 steps of the conjugate gradient method\n",
      "Performed 17 steps of the conjugate gradient method\n",
      "Performed 18 steps of the conjugate gradient method\n",
      "Performed 19 steps of the conjugate gradient method\n",
      "Performed 20 steps of the conjugate gradient method\n",
      "Performed 21 steps of the conjugate gradient method\n",
      "Performed 22 steps of the conjugate gradient method\n",
      "number of approximate newton steps performed : 4         in 679.8434474468231 seconds\n",
      "Performed 23 steps of the conjugate gradient method\n",
      "Performed 24 steps of the conjugate gradient method\n",
      "Performed 25 steps of the conjugate gradient method\n",
      "Performed 26 steps of the conjugate gradient method\n",
      "Performed 27 steps of the conjugate gradient method\n",
      "Performed 28 steps of the conjugate gradient method\n",
      "Performed 29 steps of the conjugate gradient method\n",
      "Performed 30 steps of the conjugate gradient method\n",
      "number of approximate newton steps performed : 5         in 895.5621466636658 seconds\n",
      "Performed 31 steps of the conjugate gradient method\n",
      "Performed 32 steps of the conjugate gradient method\n",
      "Performed 33 steps of the conjugate gradient method\n",
      "Performed 34 steps of the conjugate gradient method\n",
      "Performed 35 steps of the conjugate gradient method\n",
      "Performed 36 steps of the conjugate gradient method\n",
      "Performed 37 steps of the conjugate gradient method\n",
      "Performed 38 steps of the conjugate gradient method\n",
      "number of approximate newton steps performed : 6         in 1110.1902151107788 seconds\n",
      "Performed 39 steps of the conjugate gradient method\n",
      "Performed 40 steps of the conjugate gradient method\n",
      "Performed 41 steps of the conjugate gradient method\n",
      "Performed 42 steps of the conjugate gradient method\n",
      "Performed 43 steps of the conjugate gradient method\n",
      "Performed 44 steps of the conjugate gradient method\n",
      "Performed 45 steps of the conjugate gradient method\n",
      "Performed 46 steps of the conjugate gradient method\n",
      "number of approximate newton steps performed : 7         in 1325.702290058136 seconds\n",
      "Performed 47 steps of the conjugate gradient method\n"
     ]
    }
   ],
   "source": [
    "for sigma in lSigma:\n",
    "    kern = gaussianKernel.gaussianKernel(sigma)\n",
    "    torch.cuda.empty_cache()\n",
    "    alpha = NewtonMethod.NewtonMethod(loss,Xtr,C,Ytr,yC,kern,la_list,t_list,memToUse = memToUse,cobj = cobj)\n",
    "\n",
    "cobj.makeTables()"
   ]
  },
  {
   "cell_type": "markdown",
   "metadata": {},
   "source": [
    "# Plots"
   ]
  },
  {
   "cell_type": "code",
   "execution_count": 18,
   "metadata": {},
   "outputs": [
    {
     "data": {
      "image/png": "[encoded data removed]",
      "text/plain": [
       "<Figure size 432x288 with 1 Axes>"
      ]
     },
     "metadata": {
      "needs_background": "light"
     },
     "output_type": "display_data"
    },
    {
     "data": {
      "image/png": "[encoded data removed]",
      "text/plain": [
       "<Figure size 432x288 with 1 Axes>"
      ]
     },
     "metadata": {
      "needs_background": "light"
     },
     "output_type": "display_data"
    }
   ],
   "source": [
    "import pandas as pd\n",
    "import numpy as np\n",
    "import matplotlib.pyplot as plt\n",
    "m = 10000\n",
    "sigma = 5\n",
    "saveFolder = \"SusyData/gridSearch/logloss_third_round\"\n",
    "path = saveFolder + \"grid search : m = {} \".format(m)\n",
    "path_loss = path + \"test loss table.csv\"\n",
    "path_error = path + \"test error table.csv\"\n",
    "\n",
    "figure_path = \"SusyData/figures/\"\n",
    "\n",
    "df_loss = pd.read_csv(path_loss)\n",
    "df_error = pd.read_csv(path_error)\n",
    "loss_array = np.array(df_loss['sigma = {}'.format(sigma)][1:])\n",
    "lambda_array = np.array(df_loss['lambda'][1:])\n",
    "error_array = np.array(df_error['sigma = {}'.format(sigma)][1:])\n",
    "\n",
    "fig = plt.figure()\n",
    "plt.semilogx(lambda_array,loss_array,lw = 3)\n",
    "plt.xlim(1e-8,1e-12)\n",
    "plt.ylim(0.4235,0.425)\n",
    "plt.xlabel('regularization parameter',fontsize = 20)\n",
    "plt.ylabel('test loss',fontsize = 20)\n",
    "plt.xticks(fontsize = 15)\n",
    "plt.yticks(fontsize =14)\n",
    "#plt.locator_params(axis='y', nbins=6)\n",
    "plt.tight_layout()\n",
    "plt.show()\n",
    "fig.savefig(figure_path  + 'test_loss_evolution with m = {}.pdf'.format(m) , format='pdf', dpi=1000)\n",
    "fig = plt.figure()\n",
    "plt.semilogx(lambda_array,error_array,lw = 3)\n",
    "plt.xlabel('regularization parameter',fontsize = 20)\n",
    "plt.ylabel('classification error',fontsize = 20)\n",
    "plt.xlim(1e-8,1e-12)\n",
    "plt.ylim(19.55,19.6)\n",
    "plt.xticks(fontsize = 15)\n",
    "plt.yticks(fontsize =14)\n",
    "#plt.locator_params(axis='y', nbins=6)\n",
    "plt.tight_layout()\n",
    "fig.savefig(figure_path  + 'class_error_evolution with m={}.pdf'.format(m) , format='pdf', dpi=1000)\n",
    "plt.show()\n",
    "\n"
   ]
  },
  {
   "cell_type": "code",
   "execution_count": null,
   "metadata": {},
   "outputs": [],
   "source": []
  },
  {
   "cell_type": "code",
   "execution_count": null,
   "metadata": {},
   "outputs": [],
   "source": []
  }
 ],
 "metadata": {
  "kernelspec": {
   "display_name": "Python (nips19)",
   "language": "python",
   "name": "nips19"
  },
  "language_info": {
   "codemirror_mode": {
    "name": "ipython",
    "version": 3
   },
   "file_extension": ".py",
   "mimetype": "text/x-python",
   "name": "python",
   "nbconvert_exporter": "python",
   "pygments_lexer": "ipython3",
   "version": "3.7.4"
  }
 },
 "nbformat": 4,
 "nbformat_minor": 4
}
